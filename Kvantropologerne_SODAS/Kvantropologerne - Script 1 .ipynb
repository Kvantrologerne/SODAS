{
 "cells": [
  {
   "cell_type": "markdown",
   "metadata": {},
   "source": [
    " # Kvantropologerne - Script 1"
   ]
  },
  {
   "cell_type": "markdown",
   "metadata": {},
   "source": [
    "### 1. Datarens"
   ]
  },
  {
   "cell_type": "markdown",
   "metadata": {},
   "source": [
    "**1.1 Import af pakker til python**"
   ]
  },
  {
   "cell_type": "code",
   "execution_count": 3,
   "metadata": {
    "ExecuteTime": {
     "end_time": "2019-10-25T10:31:46.056092Z",
     "start_time": "2019-10-25T10:31:44.746250Z"
    }
   },
   "outputs": [],
   "source": [
    "import pandas as pd # Til at strukturere datassæt i datarammer\n",
    "import numpy as np # Til at foretage forskellige typer udregninger\n",
    "import matplotlib.pyplot as plt # Til at lave visualiseringer af udregninger"
   ]
  },
  {
   "cell_type": "markdown",
   "metadata": {},
   "source": [
    "**1.2 Import af csv-fil**"
   ]
  },
  {
   "cell_type": "code",
   "execution_count": 4,
   "metadata": {
    "ExecuteTime": {
     "end_time": "2019-10-25T11:22:20.217681Z",
     "start_time": "2019-10-25T11:22:20.098642Z"
    }
   },
   "outputs": [],
   "source": [
    "# Vi importerer csv-filen med twitter-data fra Twitter-brugerne uffeelbæk og alternativet_ \n",
    "#(Uffe Elbæk og Alternativet).\n",
    "# Filen importeres i en dataframe, således at data struktureres i rækker og kolonner med variable. \n",
    "\n",
    "data_samlet = pd.read_csv('Elbaek_Uffe_2.0.csv', index_col=0) \n",
    "\n",
    "# Vi bruger index_col=0 til at gøre første kolonnne til index. Dato er nu index."
   ]
  },
  {
   "cell_type": "markdown",
   "metadata": {},
   "source": [
    "**1.3 Første fremstilling af dataframe i et udsnit med 4 rækker**\n"
   ]
  },
  {
   "cell_type": "code",
   "execution_count": 5,
   "metadata": {},
   "outputs": [
    {
     "data": {
      "text/html": [
       "<div>\n",
       "<style scoped>\n",
       "    .dataframe tbody tr th:only-of-type {\n",
       "        vertical-align: middle;\n",
       "    }\n",
       "\n",
       "    .dataframe tbody tr th {\n",
       "        vertical-align: top;\n",
       "    }\n",
       "\n",
       "    .dataframe thead th {\n",
       "        text-align: right;\n",
       "    }\n",
       "</style>\n",
       "<table border=\"1\" class=\"dataframe\">\n",
       "  <thead>\n",
       "    <tr style=\"text-align: right;\">\n",
       "      <th></th>\n",
       "      <th>username</th>\n",
       "      <th>to</th>\n",
       "      <th>replies</th>\n",
       "      <th>retweets</th>\n",
       "      <th>favorites</th>\n",
       "      <th>text</th>\n",
       "      <th>geo</th>\n",
       "      <th>mentions</th>\n",
       "      <th>hashtags</th>\n",
       "      <th>id</th>\n",
       "      <th>permalink</th>\n",
       "    </tr>\n",
       "    <tr>\n",
       "      <th>date</th>\n",
       "      <th></th>\n",
       "      <th></th>\n",
       "      <th></th>\n",
       "      <th></th>\n",
       "      <th></th>\n",
       "      <th></th>\n",
       "      <th></th>\n",
       "      <th></th>\n",
       "      <th></th>\n",
       "      <th></th>\n",
       "      <th></th>\n",
       "    </tr>\n",
       "  </thead>\n",
       "  <tbody>\n",
       "    <tr>\n",
       "      <th>2019-10-18 10:09:28</th>\n",
       "      <td>uffeelbaek</td>\n",
       "      <td>NaN</td>\n",
       "      <td>0</td>\n",
       "      <td>3</td>\n",
       "      <td>9</td>\n",
       "      <td>Nuanceret og grundig (og forholdsvis kort) gen...</td>\n",
       "      <td>NaN</td>\n",
       "      <td>NaN</td>\n",
       "      <td>#dkpolhttps</td>\n",
       "      <td>1185135803338575872</td>\n",
       "      <td>https://twitter.com/uffeelbaek/status/11851358...</td>\n",
       "    </tr>\n",
       "    <tr>\n",
       "      <th>2019-10-18 07:58:06</th>\n",
       "      <td>alternativet_</td>\n",
       "      <td>NaN</td>\n",
       "      <td>2</td>\n",
       "      <td>4</td>\n",
       "      <td>13</td>\n",
       "      <td>“Der bør signaleres tydeligt her og laves et g...</td>\n",
       "      <td>NaN</td>\n",
       "      <td>@rasmusnordqvist</td>\n",
       "      <td>#dkpol</td>\n",
       "      <td>1185102742836142080</td>\n",
       "      <td>https://twitter.com/alternativet_/status/11851...</td>\n",
       "    </tr>\n",
       "    <tr>\n",
       "      <th>2019-10-18 07:55:33</th>\n",
       "      <td>alternativet_</td>\n",
       "      <td>NaN</td>\n",
       "      <td>1</td>\n",
       "      <td>3</td>\n",
       "      <td>10</td>\n",
       "      <td>Stop ny oliejagt i Nordsøen. Det vil være dårl...</td>\n",
       "      <td>NaN</td>\n",
       "      <td>NaN</td>\n",
       "      <td>#dkpol #dkgreen</td>\n",
       "      <td>1185102101640351745</td>\n",
       "      <td>https://twitter.com/alternativet_/status/11851...</td>\n",
       "    </tr>\n",
       "    <tr>\n",
       "      <th>2019-10-17 20:13:06</th>\n",
       "      <td>uffeelbaek</td>\n",
       "      <td>FrejElbaek</td>\n",
       "      <td>0</td>\n",
       "      <td>0</td>\n",
       "      <td>12</td>\n",
       "      <td>Kunne ikke have sagt det bedre selv, Frej. Kæm...</td>\n",
       "      <td>NaN</td>\n",
       "      <td>NaN</td>\n",
       "      <td>NaN</td>\n",
       "      <td>1184925321457524736</td>\n",
       "      <td>https://twitter.com/uffeelbaek/status/11849253...</td>\n",
       "    </tr>\n",
       "    <tr>\n",
       "      <th>2019-10-17 20:10:03</th>\n",
       "      <td>uffeelbaek</td>\n",
       "      <td>bille_nanna</td>\n",
       "      <td>2</td>\n",
       "      <td>0</td>\n",
       "      <td>1</td>\n",
       "      <td>Det er ikke min oplevelse. Jeg ser unge, voksn...</td>\n",
       "      <td>NaN</td>\n",
       "      <td>NaN</td>\n",
       "      <td>NaN</td>\n",
       "      <td>1184924555435020289</td>\n",
       "      <td>https://twitter.com/uffeelbaek/status/11849245...</td>\n",
       "    </tr>\n",
       "    <tr>\n",
       "      <th>2019-10-17 19:57:54</th>\n",
       "      <td>uffeelbaek</td>\n",
       "      <td>marcus_stoltze</td>\n",
       "      <td>1</td>\n",
       "      <td>0</td>\n",
       "      <td>2</td>\n",
       "      <td>Det synes jeg ikke om. Og der er da også nogle...</td>\n",
       "      <td>NaN</td>\n",
       "      <td>NaN</td>\n",
       "      <td>NaN</td>\n",
       "      <td>1184921495987982337</td>\n",
       "      <td>https://twitter.com/uffeelbaek/status/11849214...</td>\n",
       "    </tr>\n",
       "    <tr>\n",
       "      <th>2019-10-17 19:48:49</th>\n",
       "      <td>uffeelbaek</td>\n",
       "      <td>marcus_stoltze</td>\n",
       "      <td>1</td>\n",
       "      <td>0</td>\n",
       "      <td>1</td>\n",
       "      <td>Den er jo netop ikke-voldelig Og som sagt har ...</td>\n",
       "      <td>NaN</td>\n",
       "      <td>NaN</td>\n",
       "      <td>NaN</td>\n",
       "      <td>1184919213124837382</td>\n",
       "      <td>https://twitter.com/uffeelbaek/status/11849192...</td>\n",
       "    </tr>\n",
       "    <tr>\n",
       "      <th>2019-10-17 19:30:48</th>\n",
       "      <td>uffeelbaek</td>\n",
       "      <td>NaN</td>\n",
       "      <td>0</td>\n",
       "      <td>6</td>\n",
       "      <td>21</td>\n",
       "      <td>Der er politisk dårlige nyheder nok lige nu. S...</td>\n",
       "      <td>NaN</td>\n",
       "      <td>NaN</td>\n",
       "      <td>NaN</td>\n",
       "      <td>1184914678755004416</td>\n",
       "      <td>https://twitter.com/uffeelbaek/status/11849146...</td>\n",
       "    </tr>\n",
       "    <tr>\n",
       "      <th>2019-10-17 19:24:50</th>\n",
       "      <td>uffeelbaek</td>\n",
       "      <td>Steffendus</td>\n",
       "      <td>0</td>\n",
       "      <td>0</td>\n",
       "      <td>0</td>\n",
       "      <td>Det så jeg godt.</td>\n",
       "      <td>NaN</td>\n",
       "      <td>NaN</td>\n",
       "      <td>NaN</td>\n",
       "      <td>1184913175000604674</td>\n",
       "      <td>https://twitter.com/uffeelbaek/status/11849131...</td>\n",
       "    </tr>\n",
       "    <tr>\n",
       "      <th>2019-10-17 19:21:28</th>\n",
       "      <td>uffeelbaek</td>\n",
       "      <td>ClausGrn</td>\n",
       "      <td>0</td>\n",
       "      <td>0</td>\n",
       "      <td>3</td>\n",
       "      <td>Den grønne omstilling går alt, alt for langsom...</td>\n",
       "      <td>NaN</td>\n",
       "      <td>NaN</td>\n",
       "      <td>NaN</td>\n",
       "      <td>1184912329785462784</td>\n",
       "      <td>https://twitter.com/uffeelbaek/status/11849123...</td>\n",
       "    </tr>\n",
       "  </tbody>\n",
       "</table>\n",
       "</div>"
      ],
      "text/plain": [
       "                          username              to  replies  retweets  \\\n",
       "date                                                                    \n",
       "2019-10-18 10:09:28     uffeelbaek             NaN        0         3   \n",
       "2019-10-18 07:58:06  alternativet_             NaN        2         4   \n",
       "2019-10-18 07:55:33  alternativet_             NaN        1         3   \n",
       "2019-10-17 20:13:06     uffeelbaek      FrejElbaek        0         0   \n",
       "2019-10-17 20:10:03     uffeelbaek     bille_nanna        2         0   \n",
       "2019-10-17 19:57:54     uffeelbaek  marcus_stoltze        1         0   \n",
       "2019-10-17 19:48:49     uffeelbaek  marcus_stoltze        1         0   \n",
       "2019-10-17 19:30:48     uffeelbaek             NaN        0         6   \n",
       "2019-10-17 19:24:50     uffeelbaek      Steffendus        0         0   \n",
       "2019-10-17 19:21:28     uffeelbaek        ClausGrn        0         0   \n",
       "\n",
       "                     favorites  \\\n",
       "date                             \n",
       "2019-10-18 10:09:28          9   \n",
       "2019-10-18 07:58:06         13   \n",
       "2019-10-18 07:55:33         10   \n",
       "2019-10-17 20:13:06         12   \n",
       "2019-10-17 20:10:03          1   \n",
       "2019-10-17 19:57:54          2   \n",
       "2019-10-17 19:48:49          1   \n",
       "2019-10-17 19:30:48         21   \n",
       "2019-10-17 19:24:50          0   \n",
       "2019-10-17 19:21:28          3   \n",
       "\n",
       "                                                                  text  geo  \\\n",
       "date                                                                          \n",
       "2019-10-18 10:09:28  Nuanceret og grundig (og forholdsvis kort) gen...  NaN   \n",
       "2019-10-18 07:58:06  “Der bør signaleres tydeligt her og laves et g...  NaN   \n",
       "2019-10-18 07:55:33  Stop ny oliejagt i Nordsøen. Det vil være dårl...  NaN   \n",
       "2019-10-17 20:13:06  Kunne ikke have sagt det bedre selv, Frej. Kæm...  NaN   \n",
       "2019-10-17 20:10:03  Det er ikke min oplevelse. Jeg ser unge, voksn...  NaN   \n",
       "2019-10-17 19:57:54  Det synes jeg ikke om. Og der er da også nogle...  NaN   \n",
       "2019-10-17 19:48:49  Den er jo netop ikke-voldelig Og som sagt har ...  NaN   \n",
       "2019-10-17 19:30:48  Der er politisk dårlige nyheder nok lige nu. S...  NaN   \n",
       "2019-10-17 19:24:50                                   Det så jeg godt.  NaN   \n",
       "2019-10-17 19:21:28  Den grønne omstilling går alt, alt for langsom...  NaN   \n",
       "\n",
       "                             mentions         hashtags                   id  \\\n",
       "date                                                                          \n",
       "2019-10-18 10:09:28               NaN      #dkpolhttps  1185135803338575872   \n",
       "2019-10-18 07:58:06  @rasmusnordqvist           #dkpol  1185102742836142080   \n",
       "2019-10-18 07:55:33               NaN  #dkpol #dkgreen  1185102101640351745   \n",
       "2019-10-17 20:13:06               NaN              NaN  1184925321457524736   \n",
       "2019-10-17 20:10:03               NaN              NaN  1184924555435020289   \n",
       "2019-10-17 19:57:54               NaN              NaN  1184921495987982337   \n",
       "2019-10-17 19:48:49               NaN              NaN  1184919213124837382   \n",
       "2019-10-17 19:30:48               NaN              NaN  1184914678755004416   \n",
       "2019-10-17 19:24:50               NaN              NaN  1184913175000604674   \n",
       "2019-10-17 19:21:28               NaN              NaN  1184912329785462784   \n",
       "\n",
       "                                                             permalink  \n",
       "date                                                                    \n",
       "2019-10-18 10:09:28  https://twitter.com/uffeelbaek/status/11851358...  \n",
       "2019-10-18 07:58:06  https://twitter.com/alternativet_/status/11851...  \n",
       "2019-10-18 07:55:33  https://twitter.com/alternativet_/status/11851...  \n",
       "2019-10-17 20:13:06  https://twitter.com/uffeelbaek/status/11849253...  \n",
       "2019-10-17 20:10:03  https://twitter.com/uffeelbaek/status/11849245...  \n",
       "2019-10-17 19:57:54  https://twitter.com/uffeelbaek/status/11849214...  \n",
       "2019-10-17 19:48:49  https://twitter.com/uffeelbaek/status/11849192...  \n",
       "2019-10-17 19:30:48  https://twitter.com/uffeelbaek/status/11849146...  \n",
       "2019-10-17 19:24:50  https://twitter.com/uffeelbaek/status/11849131...  \n",
       "2019-10-17 19:21:28  https://twitter.com/uffeelbaek/status/11849123...  "
      ]
     },
     "execution_count": 5,
     "metadata": {},
     "output_type": "execute_result"
    }
   ],
   "source": [
    "data_samlet.head(10)\n",
    "\n",
    "# Metoden head betyder, at vi printer de øverste fem rækker i vores dataframe. Vi skriver 4 for at få 4 rækker. \n",
    "# Den øverste rækker viser de variable der er i vores datasæt"
   ]
  },
  {
   "cell_type": "markdown",
   "metadata": {},
   "source": [
    "**1.4 Vi fjerner replies**"
   ]
  },
  {
   "cell_type": "code",
   "execution_count": 6,
   "metadata": {
    "ExecuteTime": {
     "end_time": "2019-10-25T11:23:09.858216Z",
     "start_time": "2019-10-25T11:23:09.849754Z"
    }
   },
   "outputs": [],
   "source": [
    "# Vi fjerner alle de tweets, som er replies, dvs. henvendt til andre brugere på twitter. \n",
    "# Det skyldes, at vi kun ønsker at arbejde med tweets uden en specifik modtager. \n",
    "\n",
    "data_samlet = data_samlet.loc[~pd.notna(data_samlet.to)]\n",
    "\n",
    "# \"data_samlet.loc[~pd.notna(data_samlet.to)]\" Vi udvælger kolonnen \"to\" i det samlede datasæt og fjerner tweets,\n",
    "# som ikke er noteret som \"NaN\" (missing value). \"NaN\" indikerer at der ikke er en modtager, \n",
    "# og det dermed disse tweets, vi er interesserede i. \n",
    "# \"data_samlet =\" betyder, at vi definerer vores datasæt på ny uden replies"
   ]
  },
  {
   "cell_type": "markdown",
   "metadata": {},
   "source": [
    "**1.5 Vi fjerner http i hashtags**"
   ]
  },
  {
   "cell_type": "code",
   "execution_count": 7,
   "metadata": {},
   "outputs": [],
   "source": [
    "# Vi vil gerne have hashtags uden teksten \"http\" i vores kolonne med hashtags.  \n",
    "\n",
    "data_samlet['hashtags']=data_samlet['hashtags'].str.replace('http','')\n",
    "\n",
    "# \"data_samlet['hashtags'].str.replace('http','')\" Vi udvælger kolonnen \"hashtags\" i datasættet  og \n",
    "# erstatter \"http\", og det der kommer efter, i hashtags fra hashtag-kolonnen med'' dvs. ingenting.\n",
    "# \"data_samlet['hashtags']=\" Vi gør dette for hele kolonnen.  "
   ]
  },
  {
   "cell_type": "markdown",
   "metadata": {},
   "source": [
    "**1.6 Adskillelse af hashtags i hashtag-kolonnen**"
   ]
  },
  {
   "cell_type": "code",
   "execution_count": 8,
   "metadata": {},
   "outputs": [
    {
     "data": {
      "text/plain": [
       "0     True\n",
       "1    False\n",
       "dtype: bool"
      ]
     },
     "execution_count": 8,
     "metadata": {},
     "output_type": "execute_result"
    }
   ],
   "source": [
    "pd.Series(['#test#prøve','#test #prøve']).str.contains('[^ ]#')\n",
    "\n",
    "# Vi vil gerne adskille de strings der er i kolonnen hashtags,sådan at kolonnen i stedet for at have en lang string af hashtags \n",
    "# har lister med hashtags.\n",
    "# Vi ønsker at adskille de enkelte hashtags ved at dele i mellemrum. \n",
    "# Vi vil gerne se, om der altid er mellemrum mellem hashtags. \n",
    "# Derfor laver vi en test af en pd.series på test-hashtags.  \n",
    "# \"^\" betyder \"anything but\", og vi vil gerne teste, om der i vores test-hashtags er mellemrum før \"#\". "
   ]
  },
  {
   "cell_type": "markdown",
   "metadata": {},
   "source": [
    "**1.6.1 Adskillelse af hashtags i hashtag-kolonnen**"
   ]
  },
  {
   "cell_type": "code",
   "execution_count": 9,
   "metadata": {},
   "outputs": [
    {
     "data": {
      "text/html": [
       "<div>\n",
       "<style scoped>\n",
       "    .dataframe tbody tr th:only-of-type {\n",
       "        vertical-align: middle;\n",
       "    }\n",
       "\n",
       "    .dataframe tbody tr th {\n",
       "        vertical-align: top;\n",
       "    }\n",
       "\n",
       "    .dataframe thead th {\n",
       "        text-align: right;\n",
       "    }\n",
       "</style>\n",
       "<table border=\"1\" class=\"dataframe\">\n",
       "  <thead>\n",
       "    <tr style=\"text-align: right;\">\n",
       "      <th></th>\n",
       "      <th>username</th>\n",
       "      <th>to</th>\n",
       "      <th>replies</th>\n",
       "      <th>retweets</th>\n",
       "      <th>favorites</th>\n",
       "      <th>text</th>\n",
       "      <th>geo</th>\n",
       "      <th>mentions</th>\n",
       "      <th>hashtags</th>\n",
       "      <th>id</th>\n",
       "      <th>permalink</th>\n",
       "    </tr>\n",
       "    <tr>\n",
       "      <th>date</th>\n",
       "      <th></th>\n",
       "      <th></th>\n",
       "      <th></th>\n",
       "      <th></th>\n",
       "      <th></th>\n",
       "      <th></th>\n",
       "      <th></th>\n",
       "      <th></th>\n",
       "      <th></th>\n",
       "      <th></th>\n",
       "      <th></th>\n",
       "    </tr>\n",
       "  </thead>\n",
       "  <tbody>\n",
       "  </tbody>\n",
       "</table>\n",
       "</div>"
      ],
      "text/plain": [
       "Empty DataFrame\n",
       "Columns: [username, to, replies, retweets, favorites, text, geo, mentions, hashtags, id, permalink]\n",
       "Index: []"
      ]
     },
     "execution_count": 9,
     "metadata": {},
     "output_type": "execute_result"
    }
   ],
   "source": [
    "# Vi vil lave en test på vores dataframe \"data_samlet\" for at se, om der eksisterer to hashtags, \n",
    "# som ikke er adskildt af mellemrum i hashtag-kolonnen.\n",
    "\n",
    "data_samlet.dropna()[data_samlet.dropna()['hashtags'].str.contains('[^ ]#')]\n",
    "\n",
    "# Vi anvender koden fra 1.6.½b\n",
    "# Vi anvender desuden \"dropna()\" til at springe missing values (NaN) over"
   ]
  },
  {
   "cell_type": "markdown",
   "metadata": {},
   "source": [
    "**1.6.2 Adskillelse af hashtags i hashtag-kolonnen**"
   ]
  },
  {
   "cell_type": "code",
   "execution_count": 10,
   "metadata": {},
   "outputs": [],
   "source": [
    "# Vi har fundet ud af, at der ikke var nogen steder, hvor hashtags ikke var delt af mellemrum. Det kan vi se fordi, \n",
    "# der ikke blev genereret tweets i outputtet fra 1.6.1. \n",
    "# Nu ved vi, at vi kan adskille strings med hashtags ved at dele ved mellemrum.\n",
    "\n",
    "data_samlet['hashtags']=data_samlet['hashtags'].str.split(' ')\n",
    "\n",
    "# Vi redefinerer hashtag-kolonnen, således at der i stedet for strings med flere hashtags, \n",
    "# er lister med hvert hashtag ud fra hvert tweet. "
   ]
  },
  {
   "cell_type": "markdown",
   "metadata": {},
   "source": [
    "**1.7 Vi identificerer tweets med klimahashtags**"
   ]
  },
  {
   "cell_type": "code",
   "execution_count": 11,
   "metadata": {},
   "outputs": [],
   "source": [
    "# Vi gennemgår de 100 mest brugte hashtags for både alternativet_ og uffeelbæk  og identificerer klima-hashtags.\n",
    "# Scriptet er ikke opstillet helt kronologisk, og identifikation af klimahashtags foregik først efter, \n",
    "# vi havde opsplittet datasættet og lavet lister for hhv. uffeelbæk og alternativet_'s hashtags. \n",
    "# Se Script 2, Del 6.3 \n",
    "\n",
    "klima_hashtags = ['#dkgreen', '#stemgrønnest', '#dkgreenpic', '#bæredygtighverdag', '#COP24', \n",
    "                  '#grønthåb', '#howdareyou', '#breakforclimate', '#grøntvalgpic', '#stemgrønnestpic', \n",
    "                  '#dknatur', '#grøntvalg', '#klimastrejk', '#grøngrønnerealternativet', '#bæredygtigtlandbrug', \n",
    "                  '#ExtinctionRebellion', '#ClimateCrisis', '#extinctionrebellionpic', '#C40Summit', '#dkoeko',\n",
    "                  '#weloveøko', '#jordenkalder', '#gyllegate', '#vielskernaturen', '#StemGrønt', '#COP21', '#COP23',\n",
    "                  '#huskklima', '#FridaysForFuture', '#cop21', '#dkoekopic', '#grøngrønnerealternativetpic']\n",
    "\n",
    "# Vi laver listen \"klima_hashtags\" med de udvalgte hashtags. "
   ]
  },
  {
   "cell_type": "markdown",
   "metadata": {},
   "source": [
    "**1.7.1 Vi identificerer tweets med klimahashtags**"
   ]
  },
  {
   "cell_type": "code",
   "execution_count": 12,
   "metadata": {},
   "outputs": [],
   "source": [
    "# Vi definerer en funktion, der kan gå igennem hvert tweet og fortælle os, \n",
    "# om det indeholder et hashtag fra \"klima_hashtags\"\n",
    "\n",
    "def er_klima_tweet (ht_ls) :\n",
    "    try : \n",
    "        return [(ht in klima_hashtags) for ht in ht_ls]\n",
    "    except :\n",
    "        return np.nan\n",
    "    \n",
    "# Funktionen undersøger, om der er et klimahashtag fra \"klima_hashtags\" i andre lister med hashtags \"ht_ls\". \n",
    "# Hvis der er et klima-hashtag i den pågældende \"ht_ls\" returneres et True ellers Fals\n",
    "# \"except :return np.nan\" gør, at i tweets, hvor der ikke er hashtags, \n",
    "# så returneres elementet \"NaN\", som betyder missing values"
   ]
  },
  {
   "cell_type": "markdown",
   "metadata": {},
   "source": [
    "**1.7.2 Vi identificerer tweets med klimahashtags**"
   ]
  },
  {
   "cell_type": "code",
   "execution_count": 13,
   "metadata": {},
   "outputs": [
    {
     "data": {
      "text/plain": [
       "[True, True, True, False]"
      ]
     },
     "execution_count": 13,
     "metadata": {},
     "output_type": "execute_result"
    }
   ],
   "source": [
    "# Vi tester om vores funktion er_klima_tweet virker ved at teste en hashtag-liste + en anden test-hashtag-liste.\n",
    "# Testlisten består af tre klima-tweets fra listen klima_hashtags og et hashtag, som ikke er på listen  \n",
    "\n",
    "er_klima_tweet(['#dkgreen','#stemgrønnest', '#howdareyou','#test'])"
   ]
  },
  {
   "cell_type": "markdown",
   "metadata": {},
   "source": [
    "**1.7.3 Vi identificerer tweets med klimahashtags**"
   ]
  },
  {
   "cell_type": "code",
   "execution_count": 14,
   "metadata": {},
   "outputs": [],
   "source": [
    "# Af outputtet fra 1.7.2 kan vi se, at funktionen fungerer til at identificere klima-hashtags \n",
    "# fra liste klima_hashtags\n",
    "# Vi anvender vores funktion 'er_klima_tweet' på vores dataframe \"data_samlet\" og lagrer outputtet i en ny kolonne\n",
    "# Vi kalder den nye kolonne \"klima_tweets_liste\", den tilføjes til \"dataframe data_samlet\" \n",
    "\n",
    "data_samlet['klima_tweets_liste']=data_samlet['hashtags'].apply(er_klima_tweet)\n",
    "\n",
    "# Da der ofte er anvendt mere end et hashtag i et tweet, \n",
    "# er der i den nye kolonne \"klima_tweets_liste\" ofte mere end en False/True per tweet.    "
   ]
  },
  {
   "cell_type": "markdown",
   "metadata": {},
   "source": [
    "**1.7.4 Vi identificerer tweets med klimahashtags**"
   ]
  },
  {
   "cell_type": "code",
   "execution_count": 15,
   "metadata": {},
   "outputs": [],
   "source": [
    "# Vi laver en ny funktion, som i en ny kolonne genererer \"True\", \n",
    "# hvis der minimum ét 1 True i ved et tweet \"klima_tweets_liste\"\n",
    "\n",
    "def et_klima_ht(ls) :\n",
    "    try :\n",
    "        for b in ls :\n",
    "            if b :\n",
    "                return b\n",
    "        return False\n",
    "    except :\n",
    "        return np.nan\n",
    "    \n",
    "# Denne funktion hedder et_klima_ht og tester på lister \"ls\" om, \n",
    "# hvis der er værdier \"b\" i listen, som er True, så generes True. \n",
    "# Hvis der ikke er \"True\",så returneres værdien False. NaN forbliver NaN (missing values).   "
   ]
  },
  {
   "cell_type": "markdown",
   "metadata": {},
   "source": [
    "**1.7.5 Vi identificerer tweets med klimahashtags**"
   ]
  },
  {
   "cell_type": "code",
   "execution_count": 16,
   "metadata": {},
   "outputs": [],
   "source": [
    "# Vi bruger den nye funktion 'et_klima_ht' på kolonnen \"klima_tweets_liste\"\n",
    "\n",
    "data_samlet['et_klima_tweet']=data_samlet['klima_tweets_liste'].apply(et_klima_ht)\n",
    "\n",
    "# Vi laver en ny kolonne \"et_klima_tweet\" i \"data_samlet\" hvor der står \"True\", hvis min ét klimahashtag er anvendt. \n",
    "# Dermed kategoriserer vi et tweet som et klimatweet, når der er står \"True\" i den nye kolonne. "
   ]
  },
  {
   "cell_type": "markdown",
   "metadata": {},
   "source": [
    "**1.8 Vi opsplitter vores datasæt i Alternativet og Uffe Elbæk**"
   ]
  },
  {
   "cell_type": "code",
   "execution_count": 17,
   "metadata": {},
   "outputs": [],
   "source": [
    "# Vi laver to datasæt ud fra kolonnen username og definerer datasættene \"data_elbæk\" og \"data_alter\"\n",
    "\n",
    "data_elbæk = data_samlet.loc[data_samlet.username == 'uffeelbaek']\n",
    "data_alter = data_samlet.loc[data_samlet.username == 'alternativet_']\n",
    "\n",
    "# Med denne kode \"data_samlet.loc[data_samlet.username == 'uffeelbaek\" \n",
    "# udvælger vi rækkerne hvor \"username\" er \"uffeelbaek\". \n",
    "# Vi lagrer disse rækker i dataframe \"data_elbæk\". \n",
    "# Vi gør det samme med username \"alternativet\" i dataframe \"data_alter\""
   ]
  },
  {
   "cell_type": "markdown",
   "metadata": {},
   "source": [
    "### 2 Deskriptiv statistik på klima-tweets"
   ]
  },
  {
   "cell_type": "markdown",
   "metadata": {},
   "source": [
    "**2.1 Vi importerer pakke**"
   ]
  },
  {
   "cell_type": "code",
   "execution_count": 18,
   "metadata": {
    "ExecuteTime": {
     "end_time": "2019-10-25T11:25:11.944704Z",
     "start_time": "2019-10-25T11:25:11.942419Z"
    }
   },
   "outputs": [],
   "source": [
    "#Vi importerer Counter  \n",
    "\n",
    "from collections import Counter #Bruges til at tælle hvilke værdier forekommer hyppigst i en kolonne "
   ]
  },
  {
   "cell_type": "markdown",
   "metadata": {},
   "source": [
    "**2.2 Vi udregner andelen af klima-tweets i det samlede datasæt, for Uffe Elbæk og for Alternativet**"
   ]
  },
  {
   "cell_type": "code",
   "execution_count": 19,
   "metadata": {},
   "outputs": [
    {
     "name": "stdout",
     "output_type": "stream",
     "text": [
      "[(False, 6680), (True, 2726), (nan, 1598)]\n",
      "9406\n",
      "28.981501169466302%\n",
      "[(False, 3679), (True, 2540), (nan, 612)]\n",
      "6219\n",
      "40.86229086229086%\n",
      "[(False, 3001), (nan, 986), (True, 186)]\n",
      "3187\n",
      "5.836209601506118%\n"
     ]
    }
   ],
   "source": [
    "counter_samlet = Counter(data_samlet['et_klima_tweet'])\n",
    "# Vi udregner andelen af klimatweets i samlede antal tweets. \n",
    "# Vi definerer \"counter_samlet\" for det, vi vil optælle ved at\n",
    "# bruge funktionen \"Counter()\" på kolonnen \"et_klima_tweet\", der angiver om et tweet indeholder et klima-hashtag\n",
    "\n",
    "print(counter_samlet.most_common(3))\n",
    "# Kolonnen \"et_klima_tweet\" har tre værdier \"True\", \"False\" og \"NaN\", \n",
    "# og ved at bruge funktionen \"counter_samlet.most_common()\"\n",
    "# og angive 3 i parantesen, genereres hyppigheden og forekomsten for hver af tre værdier. \n",
    "# Dette kan vi gøre, fordi vi har defineret counter_samlet ovenfor.  \n",
    "\n",
    "print(data_samlet['et_klima_tweet'].count())\n",
    "# Vi tæller det samlede antal værdier i kolonnen et_klima_tweet. Dette er summen af tweets \"False\" og \"True\". \n",
    "# NaN medtages dermed ikke, og vi finder dermed udelukkende summen af tweets der har mindst ét hashtag. \n",
    "\n",
    "print(str(2726/9406*100)+'%')\n",
    "#Vi udregner anddelen af klima-tweets af antallet af tweets der har hashtags\n",
    "\n",
    "# Vi udregner nu andelen af klimatweets i Alternativets samlede antal tweets \n",
    "# på samme måde som ved det samlede antal tweets\n",
    "\n",
    "counter_alter = Counter(data_alter['et_klima_tweet'])\n",
    "print(counter_alter.most_common(3))\n",
    "print(data_alter['et_klima_tweet'].count())\n",
    "print(str(2540/6216*100)+'%')\n",
    "\n",
    "# Vi udregner nu andelen af klimatweets i Uffe Elbæks samlede antal tweets på samme måde som ovenfor\n",
    "\n",
    "counter_elbæk = Counter(data_elbæk['et_klima_tweet'])\n",
    "print(counter_elbæk.most_common(3))\n",
    "print(data_elbæk['et_klima_tweet'].count())\n",
    "print(str(186/3187*100)+'%')"
   ]
  },
  {
   "cell_type": "markdown",
   "metadata": {},
   "source": [
    "**2.3 Vi laver en chi2-test over username og et_klima_tweet**"
   ]
  },
  {
   "cell_type": "code",
   "execution_count": 20,
   "metadata": {},
   "outputs": [
    {
     "data": {
      "text/plain": [
       "(1252.8828564444452,\n",
       " 1.9614776704053455e-274,\n",
       " 1,\n",
       " array([[4416.64044227, 1802.35955773],\n",
       "        [2263.35955773,  923.64044227]]))"
      ]
     },
     "execution_count": 20,
     "metadata": {},
     "output_type": "execute_result"
    }
   ],
   "source": [
    "from scipy import stats\n",
    "\n",
    "#Vi importerer delpakken \"stats\" fra pakken \"scipy\". Dette gør det muligt for os at udføre vores chi2-test\n",
    "\n",
    "crosstab=pd.crosstab(data_samlet['username'], data_samlet['et_klima_tweet'])\n",
    "\n",
    "# Vi definerer den krydstabel,\"crosstab\" som vi ønsker at udføre vores chi2 test.\n",
    "# Krydstabellen skal være over værdier i de to kolonner \"username\" og \"et_klima_tweet\"\n",
    "\n",
    "stats.chi2_contingency(crosstab)\n",
    "\n",
    "# Vi bruger funktionen fra delpakken \"stats\" til at udføre en chi2-test over vores krydstabel. \n",
    "\n",
    "# Den del af outputtet, som vi er interesserede i, er p-værdien. \n",
    "# P-værdien angiver sandsynligheden for, at en fordeling er tilfældig.\n",
    "# Når p-værdien er under 0,05 betyder det at der er mere end 95% sandsynlighed for at fordelingen ikke er tilfældig.\n",
    "# Dermed er der en statistisk sammenhæng mellem værdierne i kolonnerne (variablene) \"username\" og \"et_klima_tweet\". \n",
    "# P-værdien er den 2. værdi i ouputtet, nemlig værdien 1.9614776704053455e-274. \n",
    "# Denne værdi er langt under 0,05 og dermed er der statistisk signifikans for at fordelingerne ikke er tilfældige. "
   ]
  },
  {
   "cell_type": "markdown",
   "metadata": {},
   "source": [
    "**2.3.1 Vi viser krydstabellen**"
   ]
  },
  {
   "cell_type": "code",
   "execution_count": 21,
   "metadata": {},
   "outputs": [
    {
     "data": {
      "text/html": [
       "<div>\n",
       "<style scoped>\n",
       "    .dataframe tbody tr th:only-of-type {\n",
       "        vertical-align: middle;\n",
       "    }\n",
       "\n",
       "    .dataframe tbody tr th {\n",
       "        vertical-align: top;\n",
       "    }\n",
       "\n",
       "    .dataframe thead th {\n",
       "        text-align: right;\n",
       "    }\n",
       "</style>\n",
       "<table border=\"1\" class=\"dataframe\">\n",
       "  <thead>\n",
       "    <tr style=\"text-align: right;\">\n",
       "      <th>et_klima_tweet</th>\n",
       "      <th>False</th>\n",
       "      <th>True</th>\n",
       "    </tr>\n",
       "    <tr>\n",
       "      <th>username</th>\n",
       "      <th></th>\n",
       "      <th></th>\n",
       "    </tr>\n",
       "  </thead>\n",
       "  <tbody>\n",
       "    <tr>\n",
       "      <th>alternativet_</th>\n",
       "      <td>3679</td>\n",
       "      <td>2540</td>\n",
       "    </tr>\n",
       "    <tr>\n",
       "      <th>uffeelbaek</th>\n",
       "      <td>3001</td>\n",
       "      <td>186</td>\n",
       "    </tr>\n",
       "  </tbody>\n",
       "</table>\n",
       "</div>"
      ],
      "text/plain": [
       "et_klima_tweet  False  True \n",
       "username                    \n",
       "alternativet_    3679   2540\n",
       "uffeelbaek       3001    186"
      ]
     },
     "execution_count": 21,
     "metadata": {},
     "output_type": "execute_result"
    }
   ],
   "source": [
    "#Vi printer en krydstabel over username og et_klima_tweet \n",
    "\n",
    "crosstab\n",
    "\n",
    "# Outputtet viser, andelen af klima-tweets ved brugeren uffeelbaek er mindre end ved alternativet_. \n",
    "# Uffe Elbæk laver dermed signifikant færre tweets med klima-hashtags end Alternativet. \n",
    "# Det kan vi også se i udregningerne fra 2.3 men nu er det også påvist at sammenhængen er statistisk signifikant"
   ]
  },
  {
   "cell_type": "markdown",
   "metadata": {},
   "source": [
    "**2.4 Vi udfører en T-test for at teste sammenhængen mellem favorites og klima-hashtags for alternativet** "
   ]
  },
  {
   "cell_type": "code",
   "execution_count": 22,
   "metadata": {},
   "outputs": [
    {
     "data": {
      "text/plain": [
       "Ttest_indResult(statistic=5.5539662183930085, pvalue=2.9082464391360798e-08)"
      ]
     },
     "execution_count": 22,
     "metadata": {},
     "output_type": "execute_result"
    }
   ],
   "source": [
    "from scipy.stats import ttest_ind\n",
    "\n",
    "# Vi importerer delpakken ttest_ind fra scipy.stats\n",
    "\n",
    "ikke_klima = data_alter[data_alter['et_klima_tweet']== True]\n",
    "klima = data_alter[data_alter['et_klima_tweet']== False]\n",
    "\n",
    "# Vi vil finde ud af om der er statistisk sammenhæng mellem andelen af likes (favorites), \n",
    "# på tweets med klima-hashtags og tweets med ikke-klima-hashtags. \n",
    "# Dette gøre vi ved at sammenligne det gennemsnitlige antal favorites for hver af de to typer tweets med en T-test.\n",
    "# Vi definerer først de to kategorier \"klima\" og \"ikke_klima\".\n",
    "# Vi udvælger de tweets i kolonnen \"et_klima_tweet\" som er hhv. \"True\" og \"False\" for hver kategori. \n",
    "\n",
    "\n",
    "ttest_ind(ikke_klima['favorites'], klima['favorites'])\n",
    "\n",
    "# Vi udfører t-testen ved at indsætte de to katorier og skrive \"Favorites\", \n",
    "# som er det vi vil teste sammenhængen mellem. \n",
    "\n",
    "# I outputtet kigger vi på p-værdien, \"pvalue= 2.9082464391360798e-08\". \n",
    "# Da denne værdi er langt under 0,95 betyder det, at der er signifikant sammenhæng mellem anddelen af likes og \n",
    "# hvorvidt der indgår klima-hashtags i et tweet. \n",
    "# Vi kan af dette output ikke se, hvordan sammenhængen er. \n",
    "# For at kunne det, er vi nødt til at kende middelværdierne for favorites. "
   ]
  },
  {
   "cell_type": "markdown",
   "metadata": {},
   "source": [
    "**2.4.1 Vi finder middelværdierne for favorites på tweets med og uden klima-hashtags**"
   ]
  },
  {
   "cell_type": "code",
   "execution_count": 23,
   "metadata": {},
   "outputs": [
    {
     "name": "stdout",
     "output_type": "stream",
     "text": [
      "21.099546186502707\n"
     ]
    },
    {
     "data": {
      "text/plain": [
       "et_klima_tweet\n",
       "False    20.250612\n",
       "True     23.969291\n",
       "Name: favorites, dtype: float64"
      ]
     },
     "execution_count": 23,
     "metadata": {},
     "output_type": "execute_result"
    }
   ],
   "source": [
    "print(data_alter['favorites'].mean())\n",
    "\n",
    "# Vi printer middelværdien med metoden \"mean\" over kolonnen \"favorites\" i subdatasættet \"data_alter\".\n",
    "# Dette er det gennemsnitlige antal favorites for alle tweets \n",
    "\n",
    "data_alter['favorites'].groupby(data_alter['et_klima_tweet']).mean()\n",
    "\n",
    "# Vi printer derefter middelværdien for tweets med og uden klima-hashtags. \n",
    "# Det gør vi ved at udvælge kolonnen \"et_klima-tweet og bruge funktionen \"groupby.()\" og derefter \"mean()\". \n",
    "# På den måde finder vi gennemsnittet for begge grupper i kolonnen,\n",
    "# Altså både tweets med klima-hashtags, \"True\" og tweets uden klima-hashtags \"False\"\n",
    "\n",
    "# Det første tal i outputtet viser at Alternativets tweets gennemsnitligt får 21.1 favorites\n",
    "# Derudover kan vi se, at tweets med klima-hashtags gennemsnitligt får mere \n",
    "# end 3 favorites mere end tweets uden klima-hashtags\n",
    "# Vi ved fra T-testen at denne fordelingen ikke er tilfældig, men den er statistisk signifikant. "
   ]
  },
  {
   "cell_type": "markdown",
   "metadata": {},
   "source": [
    "**2.4.2 Vi udfører en T-test for at teste sammenhængen mellem favorites og klima-hashtags for Uffe Elbæk**"
   ]
  },
  {
   "cell_type": "code",
   "execution_count": 24,
   "metadata": {},
   "outputs": [
    {
     "data": {
      "text/plain": [
       "Ttest_indResult(statistic=5.31005981950612, pvalue=1.1711142009513769e-07)"
      ]
     },
     "execution_count": 24,
     "metadata": {},
     "output_type": "execute_result"
    }
   ],
   "source": [
    "ikke_klima = data_elbæk[data_elbæk['et_klima_tweet']== True]\n",
    "klima = data_elbæk[data_elbæk['et_klima_tweet']== False]\n",
    "\n",
    "# Vi gør på samme måde som i 2.4.1\n",
    "\n",
    "\n",
    "ttest_ind(ikke_klima['favorites'], klima['favorites'])\n",
    "\n",
    "# Vi udfører t-testen ved at indsætte de to kategorier og skrive \"Favorites\", \n",
    "# som er det vi vil teste sammenhængen mellem. \n",
    "\n",
    "# I outputtet kigger vi på p-værdien, \"pvalue=1.1711142009513769e-07\". \n",
    "# Da denne værdi er langt under 0,95 betyder det, at der er signifikant sammenhæng mellem andelen af likes \n",
    "# og hvorvidt der indgår klima-hashtags i et tweet. \n",
    "# Vi kan af dette output ikke se, hvordan sammenhængen er. \n",
    "# For det er vi nødt til at kende middelværdierne for favorites. "
   ]
  },
  {
   "cell_type": "markdown",
   "metadata": {},
   "source": [
    "**2.4.3 Vi finder middelværdierne for favorites på tweets med og uden klima-hashtags for Uffe Elbæk**"
   ]
  },
  {
   "cell_type": "code",
   "execution_count": 25,
   "metadata": {},
   "outputs": [
    {
     "name": "stdout",
     "output_type": "stream",
     "text": [
      "45.69446441409058\n"
     ]
    },
    {
     "data": {
      "text/plain": [
       "et_klima_tweet\n",
       "False     47.741753\n",
       "True     117.629032\n",
       "Name: favorites, dtype: float64"
      ]
     },
     "execution_count": 25,
     "metadata": {},
     "output_type": "execute_result"
    }
   ],
   "source": [
    "print(data_elbæk['favorites'].mean())\n",
    "\n",
    "# Vi gør det samme som ved 2.4.1\n",
    "\n",
    "data_elbæk['favorites'].groupby(data_elbæk['et_klima_tweet']).mean()\n",
    "\n",
    "# Det første tal i outputtet viser at alle Uffe Elbæks tweets (inkl. NaN) gennemsnitligt får 45.7 favorites. \n",
    "# Derudover kan vi se, at tweets med klima-hashtags gennemsnitligt får 70 favorites \n",
    "# mere end tweets uden klima-hashtags\n",
    "# Vi ved fra T-testen at denne fordelingen af favorites ikke er tilfældig, men den er statistisk signifikant."
   ]
  },
  {
   "cell_type": "markdown",
   "metadata": {},
   "source": [
    "**2.5 Fordeling af tweets med hashtags hos Alternativet**   "
   ]
  },
  {
   "cell_type": "code",
   "execution_count": 26,
   "metadata": {},
   "outputs": [
    {
     "data": {
      "text/plain": [
       "username              6831\n",
       "to                       0\n",
       "replies               6831\n",
       "retweets              6831\n",
       "favorites             6831\n",
       "text                  6831\n",
       "geo                      0\n",
       "mentions              3429\n",
       "hashtags              6219\n",
       "id                    6831\n",
       "permalink             6831\n",
       "klima_tweets_liste    6219\n",
       "et_klima_tweet        6219\n",
       "dtype: int64"
      ]
     },
     "execution_count": 26,
     "metadata": {},
     "output_type": "execute_result"
    }
   ],
   "source": [
    "data_alter.count()\n",
    "\n",
    "# Ved at bruge metoden \"count.()\" på dataframen for Alternativet \"alter\" får vi et output med antallet af værdier \n",
    "# eksl. missing values (NaN) for hver kolonne.  \n",
    "# I outputtet kan vi se, at der i den periode vi har tweets fra, er 6831 tweets i alt.\n",
    "# Det kan vi se ud fra værdier i kolonnen \"username\"\n",
    "# Vi kan også se, at der er 6219 tweets, der indeholder hashtags i kolonnen \"hashtags\"."
   ]
  },
  {
   "cell_type": "markdown",
   "metadata": {},
   "source": [
    "**2.5.1 Fordeling af tweets med hashtags hos Alternativet**"
   ]
  },
  {
   "cell_type": "code",
   "execution_count": 27,
   "metadata": {},
   "outputs": [
    {
     "data": {
      "text/plain": [
       "0.9104084321475626"
      ]
     },
     "execution_count": 27,
     "metadata": {},
     "output_type": "execute_result"
    }
   ],
   "source": [
    "6219/6831\n",
    "\n",
    "# Vi udregner anddelen af tweets der indeholder hashtags med værdier fra forrige output. \n",
    "\n",
    "# Outputtet viser at Alternativete bruger hashtags i 91% af deres tweets. "
   ]
  },
  {
   "cell_type": "markdown",
   "metadata": {},
   "source": [
    "**2.6 Fordeling af tweets med hashtags hos Uffe Elbæk**"
   ]
  },
  {
   "cell_type": "code",
   "execution_count": 28,
   "metadata": {},
   "outputs": [
    {
     "data": {
      "text/plain": [
       "username              4173\n",
       "to                       0\n",
       "replies               4173\n",
       "retweets              4173\n",
       "favorites             4173\n",
       "text                  4173\n",
       "geo                      0\n",
       "mentions              2148\n",
       "hashtags              3187\n",
       "id                    4173\n",
       "permalink             4173\n",
       "klima_tweets_liste    3187\n",
       "et_klima_tweet        3187\n",
       "dtype: int64"
      ]
     },
     "execution_count": 28,
     "metadata": {},
     "output_type": "execute_result"
    }
   ],
   "source": [
    "data_elbæk.count()\n",
    "\n",
    "# Vi gør på samme måde som i 2.5 data om Uffe Elbæk\n",
    "\n",
    "# Outputtet viser at Uffe Elbæk har lavet i alt 4173 tweets \n",
    "# Det viser osgå at 3187 af Uffe Elbæks Tweets har hashtags "
   ]
  },
  {
   "cell_type": "markdown",
   "metadata": {},
   "source": [
    "**2.6.1 Fordeling af hashtags hos Uffe Elbæk**"
   ]
  },
  {
   "cell_type": "code",
   "execution_count": 29,
   "metadata": {},
   "outputs": [
    {
     "data": {
      "text/plain": [
       "0.7611655122999761"
      ]
     },
     "execution_count": 29,
     "metadata": {},
     "output_type": "execute_result"
    }
   ],
   "source": [
    "3187/4187\n",
    "\n",
    "# Vi udregner anddelen af tweets der indeholder hashtags med værdier fra forrige output. \n",
    "\n",
    "# Outputtet viser at Uffe Elbæk bruger hashtags i 76% af hans tweets. "
   ]
  }
 ],
 "metadata": {
  "kernelspec": {
   "display_name": "Python 3",
   "language": "python",
   "name": "python3"
  },
  "language_info": {
   "codemirror_mode": {
    "name": "ipython",
    "version": 3
   },
   "file_extension": ".py",
   "mimetype": "text/x-python",
   "name": "python",
   "nbconvert_exporter": "python",
   "pygments_lexer": "ipython3",
   "version": "3.7.3"
  },
  "toc": {
   "base_numbering": 1,
   "nav_menu": {},
   "number_sections": true,
   "sideBar": true,
   "skip_h1_title": false,
   "title_cell": "Table of Contents",
   "title_sidebar": "Contents",
   "toc_cell": false,
   "toc_position": {},
   "toc_section_display": true,
   "toc_window_display": false
  },
  "varInspector": {
   "cols": {
    "lenName": 16,
    "lenType": 16,
    "lenVar": 40
   },
   "kernels_config": {
    "python": {
     "delete_cmd_postfix": "",
     "delete_cmd_prefix": "del ",
     "library": "var_list.py",
     "varRefreshCmd": "print(var_dic_list())"
    },
    "r": {
     "delete_cmd_postfix": ") ",
     "delete_cmd_prefix": "rm(",
     "library": "var_list.r",
     "varRefreshCmd": "cat(var_dic_list()) "
    }
   },
   "types_to_exclude": [
    "module",
    "function",
    "builtin_function_or_method",
    "instance",
    "_Feature"
   ],
   "window_display": false
  }
 },
 "nbformat": 4,
 "nbformat_minor": 2
}
